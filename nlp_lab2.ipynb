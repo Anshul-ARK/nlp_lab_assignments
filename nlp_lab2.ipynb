{
  "nbformat": 4,
  "nbformat_minor": 0,
  "metadata": {
    "colab": {
      "provenance": [],
      "mount_file_id": "1-Xv5rXAor42zyvKZ-JWyeTkacBHRKClq",
      "authorship_tag": "ABX9TyNbZ9FMbOXTfCdfJxpeWGYv",
      "include_colab_link": true
    },
    "kernelspec": {
      "name": "python3",
      "display_name": "Python 3"
    },
    "language_info": {
      "name": "python"
    }
  },
  "cells": [
    {
      "cell_type": "markdown",
      "metadata": {
        "id": "view-in-github",
        "colab_type": "text"
      },
      "source": [
        "<a href=\"https://colab.research.google.com/github/Anshul-ARK/nlp_lab_assignments/blob/main/nlp_lab2.ipynb\" target=\"_parent\"><img src=\"https://colab.research.google.com/assets/colab-badge.svg\" alt=\"Open In Colab\"/></a>"
      ]
    },
    {
      "cell_type": "code",
      "source": [
        "!pip install automata-lib\n",
        "!pip install graphviz\n",
        "!pip install colormath\n",
        "!pip install visual_automata"
      ],
      "metadata": {
        "collapsed": true,
        "id": "aIKEwhfqc6ro"
      },
      "execution_count": null,
      "outputs": []
    },
    {
      "cell_type": "code",
      "execution_count": null,
      "metadata": {
        "id": "LKS9-BXxbyNb"
      },
      "outputs": [],
      "source": [
        "from automata.fa.dfa import DFA\n",
        "\n",
        "from visual_automata.fa.dfa import VisualDFA"
      ]
    },
    {
      "cell_type": "code",
      "source": [
        "import string\n",
        "from visual_automata.fa.dfa import VisualDFA  # adjust import if needed\n",
        "\n",
        "alphabet = set(string.ascii_lowercase)\n",
        "\n",
        "dfa = VisualDFA(\n",
        "    states={\"q0\", \"q1\"},\n",
        "    input_symbols=alphabet,\n",
        "    transitions={\n",
        "        \"q0\": {ch: \"q1\" for ch in alphabet},\n",
        "        \"q1\": {ch: \"q1\" for ch in alphabet},\n",
        "        # \"q_reject\": {ch: \"q_reject\" for ch in alphabet}\n",
        "    },\n",
        "    initial_state=\"q0\",  # string, not set\n",
        "    final_states={\"q1\"}\n",
        ")"
      ],
      "metadata": {
        "id": "i0Cln5Gadhz4"
      },
      "execution_count": null,
      "outputs": []
    },
    {
      "cell_type": "code",
      "source": [
        "dfa.show_diagram()"
      ],
      "metadata": {
        "id": "AxQWdzsQpIDt"
      },
      "execution_count": null,
      "outputs": []
    },
    {
      "cell_type": "code",
      "source": [
        "p = str(input(\"Enter the string :\"))\n",
        "if dfa.dfa.accepts_input(p):\n",
        "  print(\"yes the string is accepted\")\n",
        "else: print(\"No the string is not accepted\")"
      ],
      "metadata": {
        "colab": {
          "base_uri": "https://localhost:8080/"
        },
        "id": "edhp5HKFiDN4",
        "outputId": "3b77ff1a-713a-4f74-bbdf-9a26bc753bd4"
      },
      "execution_count": null,
      "outputs": [
        {
          "output_type": "stream",
          "name": "stdout",
          "text": [
            "Enter the string :hgaA\n",
            "No the string is not accepted\n"
          ]
        }
      ]
    },
    {
      "cell_type": "code",
      "source": [
        "# with open('/content/drive/MyDrive/sem5/nlp_lab/brown_nouns.pdf','r') as file1:"
      ],
      "metadata": {
        "colab": {
          "base_uri": "https://localhost:8080/",
          "height": 141
        },
        "id": "sh2dqRg9kVZY",
        "outputId": "4243f7d3-0ea9-4940-b1e4-b7abb105691a"
      },
      "execution_count": null,
      "outputs": [
        {
          "output_type": "error",
          "ename": "TypeError",
          "evalue": "object of type '_io.TextIOWrapper' has no len()",
          "traceback": [
            "\u001b[0;31m---------------------------------------------------------------------------\u001b[0m",
            "\u001b[0;31mTypeError\u001b[0m                                 Traceback (most recent call last)",
            "\u001b[0;32m/tmp/ipython-input-2644018603.py\u001b[0m in \u001b[0;36m<cell line: 0>\u001b[0;34m()\u001b[0m\n\u001b[0;32m----> 1\u001b[0;31m \u001b[0mprint\u001b[0m\u001b[0;34m(\u001b[0m\u001b[0mlen\u001b[0m\u001b[0;34m(\u001b[0m\u001b[0mfile1\u001b[0m\u001b[0;34m)\u001b[0m\u001b[0;34m)\u001b[0m\u001b[0;34m\u001b[0m\u001b[0;34m\u001b[0m\u001b[0m\n\u001b[0m",
            "\u001b[0;31mTypeError\u001b[0m: object of type '_io.TextIOWrapper' has no len()"
          ]
        }
      ]
    }
  ]
}